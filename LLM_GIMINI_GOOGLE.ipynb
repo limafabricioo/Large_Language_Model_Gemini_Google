{
  "nbformat": 4,
  "nbformat_minor": 0,
  "metadata": {
    "colab": {
      "provenance": [],
      "authorship_tag": "ABX9TyNp/hkDf/tZT+7ODq96FMIT",
      "include_colab_link": true
    },
    "kernelspec": {
      "name": "python3",
      "display_name": "Python 3"
    },
    "language_info": {
      "name": "python"
    }
  },
  "cells": [
    {
      "cell_type": "markdown",
      "metadata": {
        "id": "view-in-github",
        "colab_type": "text"
      },
      "source": [
        "<a href=\"https://colab.research.google.com/github/limafabricioo/Large_Language_Model_Gemini_Google/blob/main/LLM_GIMINI_GOOGLE.ipynb\" target=\"_parent\"><img src=\"https://colab.research.google.com/assets/colab-badge.svg\" alt=\"Open In Colab\"/></a>"
      ]
    },
    {
      "cell_type": "markdown",
      "source": [
        "Instalando o SDK do Google"
      ],
      "metadata": {
        "id": "TsWQqLm8Z6x3"
      }
    },
    {
      "cell_type": "code",
      "execution_count": null,
      "metadata": {
        "id": "TR_wdi5bTv_1"
      },
      "outputs": [],
      "source": [
        "!pip install -q -U google-generativeai"
      ]
    },
    {
      "cell_type": "code",
      "source": [
        "# Import the Python SDK\n",
        "import google.generativeai as genai\n",
        "from google.colab import userdata\n",
        "\n",
        "API_KEY = userdata.get(\"SECRET_KEY\")\n",
        "genai.configure(api_key=API_KEY)"
      ],
      "metadata": {
        "id": "J1esi77XaKsW"
      },
      "execution_count": 27,
      "outputs": []
    },
    {
      "cell_type": "markdown",
      "source": [
        "Listar os modelos disponíveis"
      ],
      "metadata": {
        "id": "mZJpQ_aqaVW6"
      }
    },
    {
      "cell_type": "code",
      "source": [
        "for m in genai.list_models():\n",
        "  if 'generateContent' in m.supported_generation_methods:\n",
        "    print(m.name)"
      ],
      "metadata": {
        "colab": {
          "base_uri": "https://localhost:8080/",
          "height": 144
        },
        "id": "HMlwV8NpaRoU",
        "outputId": "5145bb1f-402a-4bd1-e1a8-1b10e4ee91b4"
      },
      "execution_count": 28,
      "outputs": [
        {
          "output_type": "stream",
          "name": "stdout",
          "text": [
            "models/gemini-1.0-pro\n",
            "models/gemini-1.0-pro-001\n",
            "models/gemini-1.0-pro-latest\n",
            "models/gemini-1.0-pro-vision-latest\n",
            "models/gemini-1.5-pro-latest\n",
            "models/gemini-pro\n",
            "models/gemini-pro-vision\n"
          ]
        }
      ]
    },
    {
      "cell_type": "code",
      "source": [
        "generation_config = {\n",
        "    \"candidate_count\": 1,\n",
        "    \"temperature\": 0.5,\n",
        "}"
      ],
      "metadata": {
        "id": "aJ_f9_AzcFPC"
      },
      "execution_count": 29,
      "outputs": []
    },
    {
      "cell_type": "code",
      "source": [
        "#Opcional\n",
        "\n",
        "safety_settings = {\n",
        "    \"HARASSMENT\": \"BLOCK_NONE\",\n",
        "    \"HATE\": \"BLOCK_NONE\",\n",
        "    \"SEXUAL\": \"BLOCK_NONE\",\n",
        "    \"DANGEROUS\": \"BLOCK_NONE\",\n",
        "}"
      ],
      "metadata": {
        "id": "M4YFZvwsc0-7"
      },
      "execution_count": 30,
      "outputs": []
    },
    {
      "cell_type": "markdown",
      "source": [
        "Inicializando o Modelo"
      ],
      "metadata": {
        "id": "t2c-eFagd7Ty"
      }
    },
    {
      "cell_type": "code",
      "source": [
        "model = genai.GenerativeModel(model_name=\"gemini-1.0-pro\",\n",
        "                              generation_config=generation_config,\n",
        "                              safety_settings=safety_settings)"
      ],
      "metadata": {
        "id": "5H2saNv8dHHV"
      },
      "execution_count": 31,
      "outputs": []
    },
    {
      "cell_type": "code",
      "source": [
        "response = model.generate_content(\"Vamos aprender conteúdos sobre IA. Me dê sugestões\")\n",
        "print(response.text)"
      ],
      "metadata": {
        "colab": {
          "base_uri": "https://localhost:8080/",
          "height": 689
        },
        "id": "u5ciOeStiSSb",
        "outputId": "f64b4e5a-18bb-4a36-a4bd-6eaa18d95601"
      },
      "execution_count": 32,
      "outputs": [
        {
          "output_type": "stream",
          "name": "stdout",
          "text": [
            "**Conceitos Fundamentais:**\n",
            "\n",
            "* Definição de Inteligência Artificial (IA)\n",
            "* Tipos de IA (Aprendizado de Máquina, Aprendizado Profundo, Processamento de Linguagem Natural, Visão Computacional)\n",
            "* Algoritmos de IA comuns (Regressão, Classificação, Agrupamento)\n",
            "* Ética e Implicações Sociais da IA\n",
            "\n",
            "**Aprendizado de Máquina:**\n",
            "\n",
            "* Tipos de Aprendizado de Máquina (Supervisionado, Não Supervisionado, por Reforço)\n",
            "* Modelos de Aprendizado de Máquina (Árvores de Decisão, Redes Neurais, Máquinas de Vetores de Suporte)\n",
            "* Avaliação de Modelos de Aprendizado de Máquina (Precisão, Recall, F1-Score)\n",
            "\n",
            "**Aprendizado Profundo:**\n",
            "\n",
            "* Arquiteturas de Redes Neurais (Convolucionais, Recorrentes, Transformadores)\n",
            "* Técnicas de Treinamento de Redes Neurais (Retropropagação, Gradiente Descendente Estocástico)\n",
            "* Aplicações de Aprendizado Profundo (Reconhecimento de Imagem, Processamento de Linguagem Natural, Análise de Sentimentos)\n",
            "\n",
            "**Processamento de Linguagem Natural (PNL):**\n",
            "\n",
            "* Técnicas de PNL (Tokenização, Stemming, Lematização)\n",
            "* Modelos de PNL (Modelos de Linguagem, Análise de Sentimentos, Resumo de Texto)\n",
            "* Aplicações de PNL (Chatbots, Tradução Automática, Geração de Linguagem)\n",
            "\n",
            "**Visão Computacional:**\n",
            "\n",
            "* Técnicas de Visão Computacional (Detecção de Objetos, Reconhecimento Facial, Segmentação de Imagem)\n",
            "* Modelos de Visão Computacional (Redes Neurais Convolucionais, Transformadores)\n",
            "* Aplicações de Visão Computacional (Reconhecimento de Imagem, Análise de Vídeo, Veículos Autônomos)\n",
            "\n",
            "**Aplicações da IA:**\n",
            "\n",
            "* IA na Saúde (Diagnóstico de Doenças, Previsão de Riscos, Desenvolvimento de Medicamentos)\n",
            "* IA em Finanças (Detecção de Fraudes, Negociação Automática, Gerenciamento de Riscos)\n",
            "* IA no Varejo (Recomendações Personalizadas, Otimização de Preços, Análise de Sentimentos)\n",
            "* IA em Manufatura (Otimização de Processos, Controle de Qualidade, Manutenção Preditiva)\n"
          ]
        }
      ]
    },
    {
      "cell_type": "markdown",
      "source": [
        "Criando um chatbot"
      ],
      "metadata": {
        "id": "1DTGFRCdilai"
      }
    },
    {
      "cell_type": "code",
      "source": [
        "chat = model.start_chat(history=[])"
      ],
      "metadata": {
        "id": "wLpV27dDilBZ"
      },
      "execution_count": null,
      "outputs": []
    },
    {
      "cell_type": "code",
      "source": [
        "prompt = input(\"Esperando prompt: \")\n",
        "\n",
        "while prompt != \"fim\":\n",
        "  response = chat.send_message(prompt)\n",
        "  print(\"Resposta: \",response.text, \"\\n\")\n",
        "  prompt = input(\"Esperando prompt: \")"
      ],
      "metadata": {
        "colab": {
          "base_uri": "https://localhost:8080/",
          "height": 580
        },
        "id": "vOtCeIffjdqz",
        "outputId": "8cdfa139-168a-4335-a68d-85a96ca118e2"
      },
      "execution_count": null,
      "outputs": [
        {
          "name": "stdout",
          "output_type": "stream",
          "text": [
            "Esperando prompt: Qual a capital do Japão\n",
            "Resposta:  Tóquio \n",
            "\n",
            "Esperando prompt: Qual é a comida tipíca desse país?\n",
            "Resposta:  Sushi \n",
            "\n",
            "Esperando prompt: Me mostra o histórico de conversa por favor \n",
            "Resposta:  **Histórico de Conversa**\n",
            "\n",
            "**Usuário:** Qual a capital do Japão?\n",
            "**Assistente:** Tóquio\n",
            "\n",
            "**Usuário:** Qual é a comida tipíca desse país?\n",
            "**Assistente:** Sushi\n",
            "\n",
            "**Fim do Histórico de Conversa** \n",
            "\n",
            "Esperando prompt: Meu primo nasceu nessa cidade. Qual é a nacionalidade dele?\n",
            "Resposta:  Japonesa\n",
            "\n",
            "**Justificativa:**\n",
            "\n",
            "Como Tóquio é a capital do Japão, seu primo, que nasceu lá, possui nacionalidade japonesa. \n",
            "\n",
            "Esperando prompt: Qual é a população dessa cidade?\n",
            "Resposta:  13.960.236 (1º de maio de 2023)\n",
            "\n",
            "**Fonte:**\n",
            "* Governo Metropolitano de Tóquio: https://www.metro.tokyo.lg.jp/english/about/statistics/population/index.html \n",
            "\n",
            "Esperando prompt: fim\n"
          ]
        }
      ]
    },
    {
      "cell_type": "code",
      "source": [
        "# Melhorando a visualização\n",
        "# Código disponível em https://ai.google.dev/tutorials/python_quickstart#import_packages\n",
        "\n",
        "import textwrap\n",
        "from IPython.display import display\n",
        "from IPython.display import Markdown\n",
        "\n",
        "def to_markdown(text):\n",
        "    \"\"\"\n",
        "    Converte texto para Markdown.\n",
        "    Args:\n",
        "        text (str): Texto a ser convertido.\n",
        "    Returns:\n",
        "        Markdown: Texto convertido em Markdown.\n",
        "    \"\"\"\n",
        "    text = text.replace('•', '  *')\n",
        "    return Markdown(textwrap.indent(text, '> ', predicate=lambda _: True))\n",
        "\n",
        "\n",
        "# Imprimindo o histórico\n",
        "for message in chat.history:\n",
        "    display(to_markdown(f'**{message.role}**: {message.parts[0].text}'))\n",
        "    print('------------------------------------------------')\n"
      ],
      "metadata": {
        "colab": {
          "base_uri": "https://localhost:8080/",
          "height": 815
        },
        "id": "bVLO2UstkNoV",
        "outputId": "962ab8b8-5bff-4533-cfe1-2c9e272bc59e"
      },
      "execution_count": null,
      "outputs": [
        {
          "output_type": "display_data",
          "data": {
            "text/plain": [
              "<IPython.core.display.Markdown object>"
            ],
            "text/markdown": "> **user**: Qual a capital do Japão"
          },
          "metadata": {}
        },
        {
          "output_type": "stream",
          "name": "stdout",
          "text": [
            "------------------------------------------------\n"
          ]
        },
        {
          "output_type": "display_data",
          "data": {
            "text/plain": [
              "<IPython.core.display.Markdown object>"
            ],
            "text/markdown": "> **model**: Tóquio"
          },
          "metadata": {}
        },
        {
          "output_type": "stream",
          "name": "stdout",
          "text": [
            "------------------------------------------------\n"
          ]
        },
        {
          "output_type": "display_data",
          "data": {
            "text/plain": [
              "<IPython.core.display.Markdown object>"
            ],
            "text/markdown": "> **user**: Qual é a comida tipíca desse país?"
          },
          "metadata": {}
        },
        {
          "output_type": "stream",
          "name": "stdout",
          "text": [
            "------------------------------------------------\n"
          ]
        },
        {
          "output_type": "display_data",
          "data": {
            "text/plain": [
              "<IPython.core.display.Markdown object>"
            ],
            "text/markdown": "> **model**: Sushi"
          },
          "metadata": {}
        },
        {
          "output_type": "stream",
          "name": "stdout",
          "text": [
            "------------------------------------------------\n"
          ]
        },
        {
          "output_type": "display_data",
          "data": {
            "text/plain": [
              "<IPython.core.display.Markdown object>"
            ],
            "text/markdown": "> **user**: Me mostra o histórico de conversa por favor "
          },
          "metadata": {}
        },
        {
          "output_type": "stream",
          "name": "stdout",
          "text": [
            "------------------------------------------------\n"
          ]
        },
        {
          "output_type": "display_data",
          "data": {
            "text/plain": [
              "<IPython.core.display.Markdown object>"
            ],
            "text/markdown": "> **model**: **Histórico de Conversa**\n> \n> **Usuário:** Qual a capital do Japão?\n> **Assistente:** Tóquio\n> \n> **Usuário:** Qual é a comida tipíca desse país?\n> **Assistente:** Sushi\n> \n> **Fim do Histórico de Conversa**"
          },
          "metadata": {}
        },
        {
          "output_type": "stream",
          "name": "stdout",
          "text": [
            "------------------------------------------------\n"
          ]
        },
        {
          "output_type": "display_data",
          "data": {
            "text/plain": [
              "<IPython.core.display.Markdown object>"
            ],
            "text/markdown": "> **user**: Meu primo nasceu nessa cidade. Qual é a nacionalidade dele?"
          },
          "metadata": {}
        },
        {
          "output_type": "stream",
          "name": "stdout",
          "text": [
            "------------------------------------------------\n"
          ]
        },
        {
          "output_type": "display_data",
          "data": {
            "text/plain": [
              "<IPython.core.display.Markdown object>"
            ],
            "text/markdown": "> **model**: Japonesa\n> \n> **Justificativa:**\n> \n> Como Tóquio é a capital do Japão, seu primo, que nasceu lá, possui nacionalidade japonesa."
          },
          "metadata": {}
        },
        {
          "output_type": "stream",
          "name": "stdout",
          "text": [
            "------------------------------------------------\n"
          ]
        },
        {
          "output_type": "display_data",
          "data": {
            "text/plain": [
              "<IPython.core.display.Markdown object>"
            ],
            "text/markdown": "> **user**: Qual é a população dessa cidade?"
          },
          "metadata": {}
        },
        {
          "output_type": "stream",
          "name": "stdout",
          "text": [
            "------------------------------------------------\n"
          ]
        },
        {
          "output_type": "display_data",
          "data": {
            "text/plain": [
              "<IPython.core.display.Markdown object>"
            ],
            "text/markdown": "> **model**: 13.960.236 (1º de maio de 2023)\n> \n> **Fonte:**\n> * Governo Metropolitano de Tóquio: https://www.metro.tokyo.lg.jp/english/about/statistics/population/index.html"
          },
          "metadata": {}
        },
        {
          "output_type": "stream",
          "name": "stdout",
          "text": [
            "------------------------------------------------\n"
          ]
        }
      ]
    }
  ]
}